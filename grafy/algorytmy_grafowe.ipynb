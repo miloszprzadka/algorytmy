{
 "cells": [
  {
   "cell_type": "markdown",
   "metadata": {},
   "source": [
    "## Algorytmy grafowe"
   ]
  },
  {
   "cell_type": "markdown",
   "metadata": {},
   "source": [
    "### Algorytm najbliższego sąsiada"
   ]
  },
  {
   "cell_type": "code",
   "execution_count": 44,
   "metadata": {},
   "outputs": [],
   "source": [
    "import numpy as np\n",
    "    \n",
    "\n",
    "def nearest_neighbour(data):\n",
    "    not_visited = list(np.arange(len(input_data)))\n",
    "\n",
    "    current_edge = not_visited.pop(0)\n",
    "    visited = [current_edge]\n",
    "\n",
    "    min_dist = 1000\n",
    "\n",
    "    while len(not_visited):\n",
    "        for edge in not_visited:\n",
    "            current_dist = data[edge][current_edge]\n",
    "            print(\"EDGE:\",edge,\"CURRENT DIST:\",current_dist)\n",
    "            if current_dist < min_dist:\n",
    "                min_dist = current_dist\n",
    "                next_edge = edge\n",
    "     \n",
    "\n",
    "        not_visited.remove(next_edge)\n",
    "        visited.append(next_edge)\n",
    "        current_edge = next_edge\n",
    "\n",
    "        print(\"--------\")\n",
    "\n",
    "        print(\"OSTATECZNY EDGE\",current_edge)\n",
    "\n",
    "        min_dist = 1000\n",
    "\n",
    "    return visited\n",
    "\n",
    "input_data = [\n",
    "    #A B C D E F\n",
    "    [0,4,3,1,2,8],#A\n",
    "    [4,0,7,3,9,1],#B\n",
    "    [3,7,0,4,3,2],#C\n",
    "    [1,3,4,0,1,6],#D\n",
    "    [2,9,3,1,0,7],#E\n",
    "    [8,1,2,6,7,0],#F\n",
    "]\n",
    "\n"
   ]
  },
  {
   "cell_type": "code",
   "execution_count": 45,
   "metadata": {},
   "outputs": [
    {
     "name": "stdout",
     "output_type": "stream",
     "text": [
      "EDGE: 1 CURRENT DIST: 4\n",
      "EDGE: 2 CURRENT DIST: 3\n",
      "EDGE: 3 CURRENT DIST: 1\n",
      "EDGE: 4 CURRENT DIST: 2\n",
      "EDGE: 5 CURRENT DIST: 8\n",
      "--------\n",
      "OSTATECZNY EDGE 3\n",
      "EDGE: 1 CURRENT DIST: 3\n",
      "EDGE: 2 CURRENT DIST: 4\n",
      "EDGE: 4 CURRENT DIST: 1\n",
      "EDGE: 5 CURRENT DIST: 6\n",
      "--------\n",
      "OSTATECZNY EDGE 4\n",
      "EDGE: 1 CURRENT DIST: 9\n",
      "EDGE: 2 CURRENT DIST: 3\n",
      "EDGE: 5 CURRENT DIST: 7\n",
      "--------\n",
      "OSTATECZNY EDGE 2\n",
      "EDGE: 1 CURRENT DIST: 7\n",
      "EDGE: 5 CURRENT DIST: 2\n",
      "--------\n",
      "OSTATECZNY EDGE 5\n",
      "EDGE: 1 CURRENT DIST: 1\n",
      "--------\n",
      "OSTATECZNY EDGE 1\n",
      "Path:\n",
      "0 -> 3 -> 4 -> 2 -> 5 -> 1\n"
     ]
    }
   ],
   "source": [
    "path = nearest_neighbour(input_data)\n",
    "\n",
    "print(\"Path:\")\n",
    "print(\" -> \".join([str(x) for x in path]))"
   ]
  }
 ],
 "metadata": {
  "kernelspec": {
   "display_name": "Python 3",
   "language": "python",
   "name": "python3"
  },
  "language_info": {
   "codemirror_mode": {
    "name": "ipython",
    "version": 3
   },
   "file_extension": ".py",
   "mimetype": "text/x-python",
   "name": "python",
   "nbconvert_exporter": "python",
   "pygments_lexer": "ipython3",
   "version": "3.12.0"
  }
 },
 "nbformat": 4,
 "nbformat_minor": 2
}
