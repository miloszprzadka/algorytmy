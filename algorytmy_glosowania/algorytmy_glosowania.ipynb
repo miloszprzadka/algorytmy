{
 "cells": [
  {
   "cell_type": "markdown",
   "source": [
    "## Algorytmy modeli głosowania"
   ],
   "metadata": {
    "collapsed": false
   },
   "id": "dbdb7f4919f4a510"
  },
  {
   "cell_type": "markdown",
   "source": [
    "Biblioteki"
   ],
   "metadata": {
    "collapsed": false
   },
   "id": "2905dff0f3b138c9"
  },
  {
   "cell_type": "code",
   "outputs": [],
   "source": [
    "import numpy as np"
   ],
   "metadata": {
    "collapsed": false,
    "ExecuteTime": {
     "end_time": "2024-05-07T18:03:37.643114Z",
     "start_time": "2024-05-07T18:03:36.488638Z"
    }
   },
   "id": "21a9f64e80d954c0",
   "execution_count": 4
  },
  {
   "cell_type": "markdown",
   "source": [
    "Wczytanie danych"
   ],
   "metadata": {
    "collapsed": false
   },
   "id": "f581be397f9355c0"
  },
  {
   "cell_type": "code",
   "outputs": [
    {
     "name": "stdout",
     "output_type": "stream",
     "text": [
      "{'A': 332, 'B': 125, 'C': 652, 'D': 210}\n"
     ]
    }
   ],
   "source": [
    "comitees = ['A','B','C','D']\n",
    "votes   =  [332,125,652,210]\n",
    "\n",
    "data = {x: y for x,y in zip(comitees,votes)}\n",
    "print(data)"
   ],
   "metadata": {
    "collapsed": false,
    "ExecuteTime": {
     "end_time": "2024-05-07T18:03:34.308375Z",
     "start_time": "2024-05-07T18:03:34.303019Z"
    }
   },
   "id": "77bd896f9d92bcf0",
   "execution_count": 3
  },
  {
   "cell_type": "code",
   "outputs": [],
   "source": [
    "w1 = {'A': 252, \n",
    "        'B': 604, \n",
    "        'C': 126, \n",
    "        'D': 26,\n",
    "        'E': 210 \n",
    "       }\n",
    "places_w1 = 7\n",
    "\n",
    "w2 = {'A': 177, \n",
    "        'B': 153, \n",
    "        'C': 61, \n",
    "        'D': 41,\n",
    "        'E': 50 \n",
    "       }\n",
    "places_w2 = 5\n",
    "\n",
    "w3 = {'A': 97, \n",
    "        'B': 113, \n",
    "        'C': 75, \n",
    "        'D': 15,\n",
    "        'E': 62 \n",
    "       }\n",
    "places_w3 = 3\n",
    "\n",
    "w4 = {'A': 57, \n",
    "        'B': 300, \n",
    "        'C': 90, \n",
    "        'D': 56,\n",
    "        'E': 31 \n",
    "       }\n",
    "places_w4 = 4"
   ],
   "metadata": {
    "collapsed": false,
    "ExecuteTime": {
     "end_time": "2024-05-07T13:02:36.841530Z",
     "start_time": "2024-05-07T13:02:36.836156Z"
    }
   },
   "id": "4a2ac0f0a43aaca7",
   "execution_count": 8
  },
  {
   "cell_type": "markdown",
   "source": [
    "### Algorytm Sainte-Lague"
   ],
   "metadata": {
    "collapsed": false
   },
   "id": "ab2f06970b4dc8a"
  },
  {
   "cell_type": "code",
   "outputs": [
    {
     "ename": "NameError",
     "evalue": "name 'w1' is not defined",
     "output_type": "error",
     "traceback": [
      "\u001B[0;31m---------------------------------------------------------------------------\u001B[0m",
      "\u001B[0;31mNameError\u001B[0m                                 Traceback (most recent call last)",
      "Cell \u001B[0;32mIn[5], line 17\u001B[0m\n\u001B[1;32m     12\u001B[0m         output[c] \u001B[38;5;241m+\u001B[39m\u001B[38;5;241m=\u001B[39m \u001B[38;5;241m1\u001B[39m\n\u001B[1;32m     14\u001B[0m     \u001B[38;5;28;01mreturn\u001B[39;00m output\n\u001B[0;32m---> 17\u001B[0m \u001B[38;5;28mprint\u001B[39m(sainte_lague(\u001B[43mw1\u001B[49m, places_w1))\n\u001B[1;32m     18\u001B[0m \u001B[38;5;28mprint\u001B[39m(sainte_lague(w2, places_w2))\n\u001B[1;32m     19\u001B[0m \u001B[38;5;28mprint\u001B[39m(sainte_lague(w3, places_w3))\n",
      "\u001B[0;31mNameError\u001B[0m: name 'w1' is not defined"
     ]
    }
   ],
   "source": [
    "def sainte_lague(votes, n):\n",
    "    divided = []\n",
    "    for k, v in votes.items():\n",
    "        for i in range(1, n*2, 2):\n",
    "            divided.append([k, v/i])\n",
    "        \n",
    "    results = np.array(sorted(divided, key=lambda x: x[1], reverse=True)[:n])[:, 0]\n",
    "    \n",
    "    output = {comittee: 0 for comittee in votes.keys()}\n",
    "    \n",
    "    for c in results:\n",
    "        output[c] += 1\n",
    "\n",
    "    return output\n",
    "\n",
    "\n",
    "print(sainte_lague(w1, places_w1))\n",
    "print(sainte_lague(w2, places_w2))\n",
    "print(sainte_lague(w3, places_w3))\n",
    "print(sainte_lague(w3, places_w3))"
   ],
   "metadata": {
    "collapsed": false,
    "ExecuteTime": {
     "end_time": "2024-05-07T18:03:43.921260Z",
     "start_time": "2024-05-07T18:03:43.893841Z"
    }
   },
   "id": "ee9355bee9ea4d4",
   "execution_count": 5
  },
  {
   "cell_type": "markdown",
   "source": [
    "### Algorytm Hare-Niemeyer"
   ],
   "metadata": {
    "collapsed": false
   },
   "id": "92bf51b1088d6b49"
  },
  {
   "cell_type": "code",
   "outputs": [
    {
     "data": {
      "text/plain": "{'A': 2, 'B': 1, 'C': 5, 'D': 2}"
     },
     "execution_count": 6,
     "metadata": {},
     "output_type": "execute_result"
    }
   ],
   "source": [
    "def hare_niemeyer(votes, n):\n",
    "    sum_votes = sum(votes.values())\n",
    "    scores = {}\n",
    "    for comittee, v in votes.items():\n",
    "        scores[comittee] = (v*n)/sum_votes\n",
    "    output = dict(zip(scores, map(int, scores.values())))\n",
    "    \n",
    "    scores = dict(map(lambda x: (x[1]%1, x[0]), scores.items()))\n",
    "    decimals_sorted = sorted(scores)\n",
    "    \n",
    "    while sum(output.values()) != n:\n",
    "        output[scores[decimals_sorted.pop()]] += 1\n",
    "        \n",
    "    return output\n",
    "\n",
    "hare_niemeyer(data,10)"
   ],
   "metadata": {
    "collapsed": false,
    "ExecuteTime": {
     "end_time": "2024-05-07T18:03:54.407054Z",
     "start_time": "2024-05-07T18:03:54.396028Z"
    }
   },
   "id": "9ad8f68e835dc2fb",
   "execution_count": 6
  },
  {
   "cell_type": "markdown",
   "source": [
    "### Algorytm D'Hondta"
   ],
   "metadata": {
    "collapsed": false
   },
   "id": "31f15b5055c40b45"
  },
  {
   "cell_type": "code",
   "outputs": [
    {
     "data": {
      "text/plain": "{'A': 3, 'B': 1, 'C': 5, 'D': 1}"
     },
     "execution_count": 17,
     "metadata": {},
     "output_type": "execute_result"
    }
   ],
   "source": [
    "def dhondt(votes, n):\n",
    "    divided = []\n",
    "    for k, v in votes.items():\n",
    "        for i in range(1, n):\n",
    "            divided.append([k, v/i])\n",
    "    results = np.array(sorted(divided, key=lambda x: x[1], reverse=True)[:n])[:, 0]\n",
    "    \n",
    "    output = {comittee: 0 for comittee in votes.keys()}\n",
    "    \n",
    "    for c in results:\n",
    "        output[c] += 1\n",
    "\n",
    "    return output\n",
    "\n",
    "dhondt(data,10)"
   ],
   "metadata": {
    "collapsed": false,
    "ExecuteTime": {
     "end_time": "2024-05-07T14:40:22.113092Z",
     "start_time": "2024-05-07T14:40:22.105922Z"
    }
   },
   "id": "52d1f74094b681f0",
   "execution_count": 17
  }
 ],
 "metadata": {
  "kernelspec": {
   "display_name": "Python 3",
   "language": "python",
   "name": "python3"
  },
  "language_info": {
   "codemirror_mode": {
    "name": "ipython",
    "version": 2
   },
   "file_extension": ".py",
   "mimetype": "text/x-python",
   "name": "python",
   "nbconvert_exporter": "python",
   "pygments_lexer": "ipython2",
   "version": "2.7.6"
  }
 },
 "nbformat": 4,
 "nbformat_minor": 5
}
