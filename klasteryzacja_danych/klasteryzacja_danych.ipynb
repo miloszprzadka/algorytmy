{
 "cells": [
  {
   "cell_type": "markdown",
   "source": [
    "## Algorytmy klasteryzacji danych"
   ],
   "metadata": {
    "collapsed": false
   }
  },
  {
   "cell_type": "markdown",
   "source": [
    "Biblioteki"
   ],
   "metadata": {
    "collapsed": false
   }
  },
  {
   "cell_type": "code",
   "outputs": [],
   "source": [
    "import pandas as pd\n",
    "import numpy as np\n",
    "from scipy.spatial import distance\n",
    "from sklearn.metrics import accuracy_score\n",
    "from sklearn.model_selection import train_test_split\n",
    "import warnings"
   ],
   "metadata": {
    "collapsed": false
   }
  },
  {
   "cell_type": "markdown",
   "source": [
    "Wczytywanie danych"
   ],
   "metadata": {
    "collapsed": false
   }
  },
  {
   "cell_type": "code",
   "outputs": [],
   "source": [
    "warnings.filterwarnings('ignore')\n",
    "iris = pd.read_csv('Iris.csv', index_col='Id')\n",
    "\n",
    "label_columns = ['SepalLengthCm', 'SepalWidthCm', 'PetalLengthCm', 'PetalWidthCm']\n",
    "\n",
    "features_train, features_test, labels_train, labels_test = train_test_split(iris[label_columns].to_numpy(), iris[['Species']].to_numpy(), test_size=0.3)"
   ],
   "metadata": {
    "collapsed": false,
    "ExecuteTime": {
     "end_time": "2024-05-06T16:01:42.830763Z",
     "start_time": "2024-05-06T16:01:42.819576Z"
    }
   },
   "execution_count": 49
  },
  {
   "cell_type": "markdown",
   "source": [
    "### Algorytm  K-Najbliższych Sąsiadów KNN"
   ],
   "metadata": {
    "collapsed": false
   }
  },
  {
   "cell_type": "code",
   "execution_count": 50,
   "metadata": {
    "ExecuteTime": {
     "end_time": "2024-05-06T16:01:47.294040Z",
     "start_time": "2024-05-06T16:01:47.211797Z"
    }
   },
   "outputs": [
    {
     "name": "stdout",
     "output_type": "stream",
     "text": [
      "Skuteczność: 91.11%\n"
     ]
    }
   ],
   "source": [
    "class NearestNeighborClassifier():\n",
    "    def __init__(self, n_neighbors):\n",
    "        self.n_neighbors = n_neighbors\n",
    "        \n",
    "    def fit(self, features, labels):\n",
    "        self.features_train = features\n",
    "        self.labels_train = labels\n",
    "\n",
    "    def predict(self, features_test):\n",
    "        predictions = []\n",
    "\n",
    "        for row in features_test:\n",
    "            n_labels = self.closest_n_labels(row)\n",
    "            label = max(set(n_labels), key=n_labels.count)\n",
    "            predictions.append(label)\n",
    "\n",
    "        return predictions\n",
    "\n",
    "    def closest_n_labels(self, row):\n",
    "        best_dists = []\n",
    "        best_indexes = []\n",
    "        for i in range(0, self.n_neighbors):\n",
    "            best_dists.append(distance.euclidean(row, self.features_train[i]))\n",
    "            best_indexes.append(i)\n",
    "\n",
    "        for i in range(0, len(self.features_train)):\n",
    "            dist = distance.euclidean(row, self.features_train[i])\n",
    "            if dist < max(best_dists):\n",
    "                max_index = np.argmax(best_dists)\n",
    "                best_dists.pop(max_index)\n",
    "                best_indexes.pop(max_index)\n",
    "                \n",
    "                best_dists.append(dist)\n",
    "                best_indexes.append(i)\n",
    "                \n",
    "        output_labels = []\n",
    "                \n",
    "        for idx in best_indexes:\n",
    "            output_labels.append(self.labels_train[idx][0])\n",
    "\n",
    "        return output_labels\n",
    "    \n",
    "\n",
    "model_KNN = NearestNeighborClassifier(n_neighbors=2)\n",
    "\n",
    "model_KNN.fit(features_train, labels_train)\n",
    "predictions_KNN = model_KNN.predict(features_test)\n",
    "\n",
    "result_KNN = accuracy_score(labels_test, predictions_KNN)\n",
    "print(f'Skuteczność: {round(result_KNN, 4)*100}%')"
   ]
  },
  {
   "cell_type": "markdown",
   "source": [
    "### KNN dla centroidów"
   ],
   "metadata": {
    "collapsed": false
   }
  },
  {
   "cell_type": "code",
   "outputs": [
    {
     "name": "stdout",
     "output_type": "stream",
     "text": [
      "Skuteczność: 86.67%\n"
     ]
    }
   ],
   "source": [
    "class KNN_Centroid():\n",
    "    \n",
    "    def fit(self, features, labels):\n",
    "        self.features_train = features\n",
    "        self.labels_train = labels               \n",
    "        self.unique_labels = np.unique(labels)\n",
    "        self.centroids = self.get_centroids(self.features_train, self.labels_train)\n",
    "\n",
    "    def predict(self, features_test):\n",
    "        predictions = []\n",
    "\n",
    "        for row in features_test:\n",
    "            label = self.closest_centroid(row)\n",
    "            predictions.append(label)\n",
    "\n",
    "        return predictions\n",
    "    \n",
    "    def get_centroids(self, features_train, labels_train):\n",
    "        centroids = {}\n",
    "\n",
    "        df = pd.DataFrame(np.hstack((features_train, labels_train)), \n",
    "                          columns=[f'col{i}' for i in range(len(self.features_train[0]))] + ['label']\n",
    "                         ).groupby('label').mean()\n",
    "\n",
    "        labels = df.index.tolist()\n",
    "\n",
    "        for label in labels:\n",
    "            centroids[label] = df.loc[label].to_numpy()\n",
    "\n",
    "        return centroids\n",
    "\n",
    "    def closest_centroid(self, row):\n",
    "        best_dist = distance.euclidean(row, self.centroids[self.unique_labels[0]])\n",
    "        best_label = self.unique_labels[0]\n",
    "        \n",
    "        for i in range(len(self.unique_labels)):\n",
    "            dist = distance.euclidean(row, self.centroids[self.unique_labels[i]])\n",
    "            if dist < best_dist:\n",
    "                best_dist = dist\n",
    "                best_label = self.unique_labels[i]\n",
    "\n",
    "        return best_label\n",
    "    \n",
    "\n",
    "model_KNN_centroid = KNN_Centroid()\n",
    "\n",
    "model_KNN_centroid.fit(features_train, labels_train)\n",
    "\n",
    "predictions_KNN_centroids = model_KNN_centroid.predict(features_test)\n",
    "\n",
    "result_KNN_centroids = accuracy_score(labels_test, predictions_KNN_centroids)\n",
    "print(f'Skuteczność: {round(result_KNN_centroids, 4)*100}%')"
   ],
   "metadata": {
    "collapsed": false,
    "ExecuteTime": {
     "end_time": "2024-05-06T16:01:50.733350Z",
     "start_time": "2024-05-06T16:01:50.714870Z"
    }
   },
   "execution_count": 51
  },
  {
   "cell_type": "markdown",
   "source": [
    "### Analizy składowych systemu decyzyjnego PCA"
   ],
   "metadata": {
    "collapsed": false
   }
  },
  {
   "cell_type": "code",
   "outputs": [
    {
     "name": "stdout",
     "output_type": "stream",
     "text": [
      "PC:\n",
      "[[ 0.36439759 -0.65313273]\n",
      " [-0.09009356 -0.7337238 ]\n",
      " [ 0.85466749  0.18104425]\n",
      " [ 0.35866564  0.04785396]]\n",
      "Output data:\n",
      "[[ 3.08995502e-02  5.97897154e-01]\n",
      " [ 2.09122714e+00 -3.71989341e-01]\n",
      " [ 1.31794902e+00 -2.28683249e-01]\n",
      " [-2.80099965e+00  2.53076854e-01]\n",
      " [-2.68810250e+00  1.32495626e-01]\n",
      " [ 2.53286837e-01  5.70080232e-01]\n",
      " [ 1.95394111e+00  1.88487719e-01]\n",
      " [-3.23959869e+00  5.25329944e-01]\n",
      " [ 6.42119517e-01  3.58803387e-01]\n",
      " [-2.71928163e+00 -9.28814361e-02]\n",
      " [ 3.78152635e+00 -2.46496458e-01]\n",
      " [-2.66887678e+00 -7.97167994e-01]\n",
      " [-2.72926652e+00  2.62647646e-01]\n",
      " [ 2.41035116e+00 -3.81477655e-01]\n",
      " [ 1.37183898e+00  2.85846306e-01]\n",
      " [ 3.59435259e-01  3.02978427e-01]\n",
      " [ 1.27378500e+00  1.19010910e-01]\n",
      " [ 1.76462340e+00  5.20089821e-01]\n",
      " [ 2.60044976e+00 -3.38721382e-01]\n",
      " [ 1.88085389e+00 -1.25342779e-01]\n",
      " [ 1.51659667e-01  6.90885644e-01]\n",
      " [ 8.03063443e-01  3.87541920e-01]\n",
      " [-2.64056830e+00 -5.84296986e-01]\n",
      " [ 2.82977866e-01  3.58246383e-01]\n",
      " [-2.61816704e+00 -1.07979922e+00]\n",
      " [ 8.85183793e-01 -3.17219163e-01]\n",
      " [-2.56053303e+00 -5.64206350e-01]\n",
      " [ 2.40019542e+00 -3.14652697e-01]\n",
      " [-2.64865806e+00  2.12639613e-01]\n",
      " [ 2.54484490e+00 -2.79955532e-01]\n",
      " [ 2.89723314e+00 -7.88918502e-01]\n",
      " [ 9.32832915e-01  5.53902790e-01]\n",
      " [ 1.07696982e+00 -2.77512418e-01]\n",
      " [ 1.56861731e+00  5.26616714e-01]\n",
      " [-2.78690053e+00 -2.52945225e-01]\n",
      " [ 1.09742002e+00  8.47882706e-02]\n",
      " [-2.90188276e+00  5.92487722e-01]\n",
      " [ 1.07356281e+00 -6.41668842e-02]\n",
      " [ 1.28411160e+00  3.40890077e-01]\n",
      " [ 2.20827290e-01  3.51949302e-01]\n",
      " [ 9.05670829e-01  2.00834445e-01]\n",
      " [ 1.51304460e+00  3.78136085e-01]\n",
      " [-2.32613171e+00 -3.73193633e-01]\n",
      " [-2.29944536e+00 -7.30484742e-01]\n",
      " [-2.76155521e+00  3.33220841e-01]\n",
      " [-1.89804991e-01  2.59665151e-01]\n",
      " [-2.42290059e+00 -1.84275763e-01]\n",
      " [-2.60638448e+00 -2.13462664e-01]\n",
      " [ 1.69678378e-01  8.37630404e-01]\n",
      " [ 1.24277672e+00  1.82337972e-01]\n",
      " [ 3.41014212e-01  5.15036461e-01]\n",
      " [-2.40610636e+00 -1.32949531e+00]\n",
      " [ 6.99980319e-01 -1.36110058e-01]\n",
      " [ 1.21626920e-01  3.25311244e-01]\n",
      " [ 8.73918496e-01  4.55560513e-02]\n",
      " [-2.65541147e+00 -2.96880362e-01]\n",
      " [ 2.37208995e+00 -4.46066060e-01]\n",
      " [ 2.12409371e+00 -1.49661806e-01]\n",
      " [-2.60320894e+00  2.20698720e-01]\n",
      " [-2.83818346e+00  9.97846714e-02]\n",
      " [-2.68810250e+00  1.32495626e-01]\n",
      " [-2.57895408e+00 -3.52148317e-01]\n",
      " [ 2.33221102e+00  3.98392264e-02]\n",
      " [-2.66176255e+00 -1.16520313e+00]\n",
      " [ 1.88628537e+00 -1.27328990e-01]\n",
      " [ 2.28519396e-01  2.76814895e-01]\n",
      " [-2.56167942e+00 -4.24009013e-01]\n",
      " [-2.63023701e+00  5.81579497e-04]\n",
      " [ 3.48497445e+00 -4.43806256e-01]\n",
      " [ 6.24844861e-01  4.30664082e-01]\n",
      " [-2.88120578e+00 -5.57179059e-02]\n",
      " [ 1.92815661e+00 -1.94628473e-01]\n",
      " [ 7.96887908e-01  1.70922675e-01]\n",
      " [ 2.59673787e+00 -5.47031178e-01]\n",
      " [ 9.15618876e-01 -3.10447557e-01]\n",
      " [ 1.39829385e+00  5.76062115e-01]\n",
      " [-2.85603131e+00  2.41744036e-01]\n",
      " [ 2.14926349e+00 -2.15199263e-01]\n",
      " [ 2.10698991e+00  2.10903014e-01]\n",
      " [-2.55695516e+00 -4.88847760e-01]\n",
      " [ 1.93234452e+00 -3.36156322e-02]\n",
      " [-2.03330914e-01  6.95588561e-01]\n",
      " [-2.42533208e+00 -3.99831691e-01]\n",
      " [ 5.69240000e-01  4.89429933e-01]\n",
      " [ 3.43270153e-01  7.88888660e-02]\n",
      " [-2.52785056e-02  7.26761673e-01]\n",
      " [-2.99635887e+00  5.01010917e-01]\n",
      " [-2.66499402e+00 -3.00154073e-01]\n",
      " [-2.64282424e+00 -1.48149391e-01]\n",
      " [-3.01437758e+00  3.54266157e-01]\n",
      " [ 3.21136016e+00 -1.36246988e+00]\n",
      " [-7.18387346e-01  1.02310961e+00]\n",
      " [ 1.78786590e+00  2.20391327e-01]\n",
      " [ 9.12614196e-01 -4.55904816e-01]\n",
      " [ 3.38091579e+00 -5.38556772e-01]\n",
      " [ 2.16103024e-01  4.16788049e-01]\n",
      " [ 4.48650742e-01  6.85145568e-01]\n",
      " [-2.37383676e+00  5.48948543e-02]\n",
      " [ 1.54202373e+00 -2.59549699e-01]\n",
      " [ 1.02926008e+00 -2.12423329e-01]\n",
      " [ 2.82698812e+00 -3.61278383e-01]\n",
      " [ 1.44869402e+00 -4.91223841e-01]\n",
      " [ 1.28728714e+00  7.75051461e-01]\n",
      " [ 1.74767740e+00 -7.83581151e-02]\n",
      " [ 2.14285648e+00  2.15688410e-01]]\n"
     ]
    }
   ],
   "source": [
    "def PCA(X, n_comp):\n",
    "    mean = np.mean(X, axis=0)\n",
    "    X_minus_mean = X - mean\n",
    "\n",
    "    cov_matrix = np.cov(X_minus_mean, rowvar=False)\n",
    "    e_values, e_vectors = np.linalg.eig(cov_matrix)\n",
    "\n",
    "    sorted_indices = np.argsort(e_values)[::-1][:n_comp]\n",
    "    e_values = e_values[sorted_indices]\n",
    "    e_vectors = e_vectors[:, sorted_indices]\n",
    "\n",
    "    output = np.dot(X_minus_mean, e_vectors)\n",
    "\n",
    "    return output, e_values, e_vectors\n",
    "\n",
    "output_data, e_values, e_vectors = PCA(features_train, n_comp=2)\n",
    "\n",
    "print(\"PC:\")\n",
    "print(e_vectors)\n",
    "\n",
    "print(\"Output data:\")\n",
    "print(output_data)"
   ],
   "metadata": {
    "collapsed": false,
    "ExecuteTime": {
     "end_time": "2024-05-06T16:03:55.650509Z",
     "start_time": "2024-05-06T16:03:55.634408Z"
    }
   },
   "execution_count": 52
  }
 ],
 "metadata": {
  "kernelspec": {
   "display_name": "Python 3",
   "language": "python",
   "name": "python3"
  },
  "language_info": {
   "codemirror_mode": {
    "name": "ipython",
    "version": 3
   },
   "file_extension": ".py",
   "mimetype": "text/x-python",
   "name": "python",
   "nbconvert_exporter": "python",
   "pygments_lexer": "ipython3",
   "version": "3.12.0"
  }
 },
 "nbformat": 4,
 "nbformat_minor": 2
}
