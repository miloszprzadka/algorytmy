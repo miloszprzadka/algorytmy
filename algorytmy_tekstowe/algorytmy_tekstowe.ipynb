{
 "cells": [
  {
   "cell_type": "markdown",
   "metadata": {},
   "source": [
    "## Algorytmy tekstowe"
   ]
  },
  {
   "cell_type": "markdown",
   "metadata": {},
   "source": [
    "### Algorytm wyszukiwania palindromów"
   ]
  },
  {
   "cell_type": "code",
   "execution_count": 9,
   "metadata": {},
   "outputs": [
    {
     "data": {
      "text/plain": [
       "True"
      ]
     },
     "execution_count": 9,
     "metadata": {},
     "output_type": "execute_result"
    }
   ],
   "source": [
    "def palindrome(word):\n",
    "    word_len = len(word) - 1\n",
    "\n",
    "    for letter in word:\n",
    "        if letter != word[word_len]:\n",
    "            return False\n",
    "        word_len -= 1\n",
    "    \n",
    "    return True\n",
    "\n",
    "palindrome('zakaz')"
   ]
  },
  {
   "cell_type": "markdown",
   "metadata": {},
   "source": [
    "### Algorytm wyszukiwania anagramów poprzez sortowanie liter z użyciem słownika"
   ]
  },
  {
   "cell_type": "code",
   "execution_count": 13,
   "metadata": {},
   "outputs": [
    {
     "name": "stdout",
     "output_type": "stream",
     "text": [
      "listen\n",
      "eilnst\n",
      "silent\n",
      "eilnst\n",
      "hello\n",
      "ehllo\n",
      "world\n",
      "dlorw\n",
      "hit\n",
      "hit\n",
      "it\n",
      "it\n",
      "cats\n",
      "acst\n",
      "acts\n",
      "acst\n",
      "cast\n",
      "acst\n",
      "['listen', 'silent']\n",
      "['hello']\n",
      "['world']\n",
      "['hit']\n",
      "['it']\n",
      "['cats', 'acts', 'cast']\n"
     ]
    }
   ],
   "source": [
    "def find_anagrams(words):\n",
    "    anagrams = {}\n",
    "    for word in words:\n",
    "        sorted_word = ''.join(sorted(word))  \n",
    "        if sorted_word in anagrams:\n",
    "            anagrams[sorted_word].append(word)\n",
    "        else:\n",
    "            anagrams[sorted_word] = [word]\n",
    "    return anagrams\n",
    "    \n",
    "words = ['listen', 'silent', 'hello', 'world', 'hit', 'it', 'cats', 'acts', 'cast']\n",
    "anagrams = find_anagrams(words)\n",
    "for key, value in anagrams.items():\n",
    "    print(value)"
   ]
  },
  {
   "cell_type": "markdown",
   "metadata": {},
   "source": [
    "### Algorytm wyszukiwania anagramów poprzez zliczanie liter z użyciem słownika"
   ]
  },
  {
   "cell_type": "code",
   "execution_count": 11,
   "metadata": {},
   "outputs": [
    {
     "data": {
      "text/plain": [
       "[['acts', 'cast', 'cats'], ['listen', 'silent']]"
      ]
     },
     "execution_count": 11,
     "metadata": {},
     "output_type": "execute_result"
    }
   ],
   "source": [
    "def find_anagrams(words, anagram = None):\n",
    "\n",
    "    words_counted = {}\n",
    "    output = []\n",
    "\n",
    "    def count_letters(word):\n",
    "        word_dict = {}\n",
    "        for letter in list(word):\n",
    "            if letter in word_dict.keys():\n",
    "                word_dict[letter] += 1\n",
    "            else:\n",
    "                word_dict[letter] = 1\n",
    "\n",
    "        return word_dict\n",
    "\n",
    "    if anagram is None:\n",
    "        for main_word in words:\n",
    "            small_output = []\n",
    "            for word in words:\n",
    "                words_counted[word] = count_letters(word)\n",
    "            \n",
    "            anagram_dict = count_letters(main_word)\n",
    "\n",
    "            for word, word_counted in words_counted.items():\n",
    "                if anagram_dict == word_counted:\n",
    "                    small_output.append(word)\n",
    "            output.append(sorted(small_output))\n",
    "            output = [list(x) for x in set(tuple(x) for x in output) if len(x) > 1]\n",
    "\n",
    "    else:\n",
    "        for word in words:\n",
    "            words_counted[word] = count_letters(word)\n",
    "\n",
    "        anagram_dict = count_letters(anagram)\n",
    "\n",
    "        for word, word_counted in words_counted.items():\n",
    "            if anagram_dict == word_counted:\n",
    "                output.append(word)\n",
    "                   \n",
    "    return output\n",
    "\n",
    "words = ['listen', 'silent', 'hello', 'world', 'hit', 'it', 'cats', 'acts', 'cast']\n",
    "find_anagrams(words)\n"
   ]
  }
 ],
 "metadata": {
  "kernelspec": {
   "display_name": "Python 3",
   "language": "python",
   "name": "python3"
  },
  "language_info": {
   "codemirror_mode": {
    "name": "ipython",
    "version": 3
   },
   "file_extension": ".py",
   "mimetype": "text/x-python",
   "name": "python",
   "nbconvert_exporter": "python",
   "pygments_lexer": "ipython3",
   "version": "3.12.0"
  }
 },
 "nbformat": 4,
 "nbformat_minor": 2
}
