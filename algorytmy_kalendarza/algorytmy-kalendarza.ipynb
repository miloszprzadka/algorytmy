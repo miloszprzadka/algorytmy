{
 "cells": [
  {
   "cell_type": "markdown",
   "metadata": {},
   "source": [
    "# Algorytmy kalendarza - Miłosz Prządka"
   ]
  },
  {
   "cell_type": "markdown",
   "metadata": {},
   "source": [
    "### 1. Algorytm wyznaczania lat przestepnych Grzegorza XIII"
   ]
  },
  {
   "cell_type": "code",
   "execution_count": 2,
   "metadata": {
    "ExecuteTime": {
     "end_time": "2024-05-07T18:02:48.139427Z",
     "start_time": "2024-05-07T18:02:48.133278Z"
    }
   },
   "outputs": [
    {
     "data": {
      "text/plain": "False"
     },
     "execution_count": 2,
     "metadata": {},
     "output_type": "execute_result"
    }
   ],
   "source": [
    "def leap_year(year):\n",
    "    if not year % 4:\n",
    "        if not year % 100:\n",
    "            if not year % 400:\n",
    "                return True\n",
    "            return False\n",
    "        return True\n",
    "    return False\n",
    "\n",
    "leap_year(2011)"
   ]
  },
  {
   "cell_type": "markdown",
   "metadata": {},
   "source": [
    "### 2. Algorytm Gaussa wyznaczania daty Wielkanocy"
   ]
  },
  {
   "cell_type": "markdown",
   "metadata": {},
   "source": [
    "a = rok mod 19 \n",
    "\n",
    "b = rok mod 4\n",
    "\n",
    "c = rok mod 7\n",
    "\n",
    "d = (a*19 + A) mod 30\n",
    "\n",
    "e = (2b + 4c + 6d + B) mod 7\n",
    "\n",
    "wielkanoc = 22 marzec + d + e\n",
    "\n",
    "\n",
    "| Zakres lat  | A  | B |\n",
    "|-------------|----|---|\n",
    "| - 1582  | 15 | 6 |\n",
    "| 1583 - 1699 | 22 | 2 |\n",
    "| 1700 - 1799 | 23 | 3 |\n",
    "| 1800 - 1899 | 23 | 4 |\n",
    "| 1900 - 2099 | 24 | 5 |\n",
    "| 2100 - 2199 | 24 | 6 |\n",
    "| 2200 - 2299 | 25 | 0 |\n",
    "| 2300 - 2399 | 26 | 1 |\n",
    "| 2400 - 2499 | 25 | 1 |\n",
    "\n",
    "Wyjątki:\n",
    "\n",
    "- jeżeli d = 29 oraz e = 6 to Wielkanoc przypada na dzień 19 kwietnia\n",
    "\n",
    "- jeżeli d = 28 oraz e = 6 to Wielkanoc przypada na dzień 18 kwietnia\n"
   ]
  },
  {
   "cell_type": "code",
   "execution_count": 48,
   "metadata": {},
   "outputs": [
    {
     "data": {
      "text/plain": [
       "(23, 4, 2000)"
      ]
     },
     "execution_count": 48,
     "metadata": {},
     "output_type": "execute_result"
    }
   ],
   "source": [
    "def easter_gauss(year):\n",
    "\n",
    "    if year <= 1582:\n",
    "        A, B = 15, 6\n",
    "    elif year <= 1699:\n",
    "        A, B = 22, 2\n",
    "    elif year <= 1799:\n",
    "        A, B = 23, 3\n",
    "    elif year <= 1899:\n",
    "        A, B = 23, 4\n",
    "    elif year <= 2099:\n",
    "        A, B = 24, 5\n",
    "    elif year <= 2199:\n",
    "        A, B = 24, 6\n",
    "    elif year <= 2299:\n",
    "        A, B = 25, 0\n",
    "    elif year <= 2399:\n",
    "        A, B = 26, 1\n",
    "    else:\n",
    "        A, B = 25, 1\n",
    "    \n",
    "    a = year % 19\n",
    "    b = year % 4\n",
    "    c = year % 7\n",
    "    d = (a * 19 + A) % 30\n",
    "    e = (2 * b + 4 * c + 6 * d + B) % 7\n",
    "    \n",
    "    day = 22 + d + e\n",
    "\n",
    "    if d == 29 and e == 6:\n",
    "        day = 19\n",
    "    elif d == 28 and e == 6:\n",
    "        day = 18\n",
    "\n",
    "    if day > 31:\n",
    "        day -= 31\n",
    "        month = 4\n",
    "    else:\n",
    "        month = 3\n",
    "\n",
    "    return day, month, year\n",
    "  \n",
    "easter_gauss(2000)\n"
   ]
  },
  {
   "cell_type": "markdown",
   "metadata": {},
   "source": [
    "### 3. Algorytm Meeusa-Jones’a-Butchera wyznaczania daty Wielkanocy"
   ]
  },
  {
   "cell_type": "markdown",
   "metadata": {},
   "source": [
    "a = rok [mod] 19\n",
    "\n",
    "b = zaokrąglenie w dół (rok / 100)\n",
    "\n",
    "c = rok [mod] 100\n",
    "\n",
    "d = zaokrąglenie w dół (b / 4)\n",
    "\n",
    "e = b [mod] 4\n",
    "\n",
    "f = zaokrąglenie w dół ((b + 8) / 25)\n",
    "\n",
    "g = zaokrąglenie w dół ((b – f + 1) / 3)\n",
    "\n",
    "h = (19 * a + b – d – g + 15) [mod] 30\n",
    "\n",
    "i = zaokrąglenie w dół (c / 4)\n",
    "\n",
    "j = c [mod] 4\n",
    "\n",
    "k = (32 + 2 * e + 2 * i – h – j) [mod] 7\n",
    "\n",
    "l = zaokrąglenie w dół ((a + 11 * h + 22 * k) / 451)\n",
    "\n",
    "m = (h + k – 7 * l + 114) [mod] 31\n",
    "\n",
    "dzień = m + 1\n",
    "\n",
    "miesiąc = zaokrąglenie w dół (h + k – 7 * l + 114) / 31"
   ]
  },
  {
   "cell_type": "code",
   "execution_count": 59,
   "metadata": {},
   "outputs": [
    {
     "data": {
      "text/plain": [
       "(31, 3, 2024)"
      ]
     },
     "execution_count": 59,
     "metadata": {},
     "output_type": "execute_result"
    }
   ],
   "source": [
    "def easter_meeus_jones_butcher(year):\n",
    "\n",
    "    a = year % 19\n",
    "    b = year // 100\n",
    "    c = year % 100 \n",
    "    d = b // 4 \n",
    "    e = b % 4 \n",
    "    f = (b + 8) // 25 \n",
    "    g = (b - f + 1) // 3 \n",
    "    h = (19 * a + b - d - g + 15) % 30 \n",
    "    i = c // 4 \n",
    "    j = c % 4\n",
    "    k = (32 + 2 * e + 2 * i - h - j) % 7\n",
    "    l = ((a + 11 * h + 22 * k) // 451)\n",
    "    m = (h + k - 7 * l + 114) % 31\n",
    "    day = m + 1\n",
    "    month = (h + k - 7 * l + 114) // 31\n",
    "\n",
    "    return day, month, year\n",
    "\n",
    "easter_meeus_jones_butcher(2024)"
   ]
  }
 ],
 "metadata": {
  "kernelspec": {
   "display_name": "Python 3",
   "language": "python",
   "name": "python3"
  },
  "language_info": {
   "codemirror_mode": {
    "name": "ipython",
    "version": 3
   },
   "file_extension": ".py",
   "mimetype": "text/x-python",
   "name": "python",
   "nbconvert_exporter": "python",
   "pygments_lexer": "ipython3",
   "version": "3.12.0"
  }
 },
 "nbformat": 4,
 "nbformat_minor": 2
}
